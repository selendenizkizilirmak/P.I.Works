{
 "cells": [
  {
   "cell_type": "code",
   "execution_count": 2,
   "metadata": {},
   "outputs": [
    {
     "name": "stdout",
     "output_type": "stream",
     "text": [
      "        country        date  daily_vaccinations  \\\n",
      "0     Argentina  12/29/2020                 NaN   \n",
      "1     Argentina  12/30/2020             15656.0   \n",
      "2     Argentina  12/31/2020             15656.0   \n",
      "3     Argentina    1/1/2021             11070.0   \n",
      "4     Argentina    1/2/2021              8776.0   \n",
      "...         ...         ...                 ...   \n",
      "1497      Wales   1/20/2021             11105.0   \n",
      "1498      Wales   1/21/2021             12318.0   \n",
      "1499      Wales   1/22/2021             15148.0   \n",
      "1500      Wales   1/23/2021             17371.0   \n",
      "1501      Wales   1/24/2021             17063.0   \n",
      "\n",
      "                                 vaccines  \n",
      "0                               Sputnik V  \n",
      "1                               Sputnik V  \n",
      "2                               Sputnik V  \n",
      "3                               Sputnik V  \n",
      "4                               Sputnik V  \n",
      "...                                   ...  \n",
      "1497  Oxford/AstraZeneca, Pfizer/BioNTech  \n",
      "1498  Oxford/AstraZeneca, Pfizer/BioNTech  \n",
      "1499  Oxford/AstraZeneca, Pfizer/BioNTech  \n",
      "1500  Oxford/AstraZeneca, Pfizer/BioNTech  \n",
      "1501  Oxford/AstraZeneca, Pfizer/BioNTech  \n",
      "\n",
      "[1502 rows x 4 columns]\n"
     ]
    }
   ],
   "source": [
    "# importing pandas module\n",
    "import pandas as pd\n",
    "  \n",
    "# loading data set\n",
    "data = pd.read_csv(r'/Users/selendenizkizilirmak/Desktop/PIWorks/country_vaccination_stats.csv')\n",
    "  \n",
    "# display the data\n",
    "print(data)"
   ]
  },
  {
   "cell_type": "code",
   "execution_count": 3,
   "metadata": {},
   "outputs": [
    {
     "data": {
      "text/plain": [
       "country\n",
       "United States    399093.0\n",
       "China            299107.5\n",
       "India            182551.5\n",
       "Name: daily_vaccinations, dtype: float64"
      ]
     },
     "execution_count": 3,
     "metadata": {},
     "output_type": "execute_result"
    }
   ],
   "source": [
    "data.groupby('country')['daily_vaccinations'].median().nlargest(3)"
   ]
  }
 ],
 "metadata": {
  "kernelspec": {
   "display_name": "Python 3",
   "language": "python",
   "name": "python3"
  },
  "language_info": {
   "codemirror_mode": {
    "name": "ipython",
    "version": 3
   },
   "file_extension": ".py",
   "mimetype": "text/x-python",
   "name": "python",
   "nbconvert_exporter": "python",
   "pygments_lexer": "ipython3",
   "version": "3.8.3"
  }
 },
 "nbformat": 4,
 "nbformat_minor": 4
}
